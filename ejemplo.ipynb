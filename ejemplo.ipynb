{
 "cells": [
  {
   "cell_type": "code",
   "execution_count": 2,
   "metadata": {},
   "outputs": [
    {
     "name": "stdout",
     "output_type": "stream",
     "text": [
      "Hola Mundo\n"
     ]
    }
   ],
   "source": [
    "print(\"Hola Mundo\") "
   ]
  },
  {
   "cell_type": "markdown",
   "metadata": {},
   "source": [
    "2do C. Ramos Gutiérrez, Natalia "
   ]
  },
  {
   "cell_type": "markdown",
   "metadata": {},
   "source": [
    "# Mi primer Notebook !"
   ]
  },
  {
   "cell_type": "markdown",
   "metadata": {},
   "source": [
    "## Mis primeros descriptivos con Pandas"
   ]
  },
  {
   "cell_type": "markdown",
   "metadata": {},
   "source": [
    "Importa la biblioteca `pandas` y le asigna el alias `pd` para facilitar su uso en el código."
   ]
  },
  {
   "cell_type": "code",
   "execution_count": null,
   "metadata": {},
   "outputs": [],
   "source": [
    "#Importamos la biblioteca pandas y la asignamos al alias 'pd' para facilitar su uso.\n",
    "import pandas as pd  "
   ]
  },
  {
   "cell_type": "markdown",
   "metadata": {},
   "source": [
    "Crea un DataFrame de pandas llamado `df` con columnas `edad` y `peso` usando los datos proporcionados."
   ]
  },
  {
   "cell_type": "code",
   "execution_count": null,
   "metadata": {},
   "outputs": [],
   "source": [
    "# Crear un diccionario llamado 'datos' que contiene dos listas: una con edades y otra con pesos\n",
    "datos = { \n",
    "    'edad' : [8, 9, 10, 11, 12],\n",
    "    'peso' : [30, 32, 35, 37, 40]\n",
    "}\n",
    "# Convertir el diccionario 'datos' en un DataFrame de pandas para manipulación y análisis de datos\n",
    "df = pd.DataFrame(datos)"
   ]
  },
  {
   "cell_type": "markdown",
   "metadata": {},
   "source": [
    "Calcula y muestra la media y la desviación típica de las columnas \"edad\" y \"peso\" del DataFrame `df`."
   ]
  },
  {
   "cell_type": "code",
   "execution_count": null,
   "metadata": {},
   "outputs": [
    {
     "name": "stdout",
     "output_type": "stream",
     "text": [
      "Media de Edad: 10.0\n",
      "Desviación Típica de Edad: 1.5811388300841898\n",
      "Media de Peso: 34.8\n",
      "Desviación Típica de Peso: 3.9623225512317903\n"
     ]
    }
   ],
   "source": [
    "# Calcula la media (promedio) de la columna 'edad' del DataFrame y la asigna a la variable media_edad\n",
    "media_edad = df['edad'].mean()\n",
    "\n",
    "# Calcula la desviación estándar de la columna 'edad' del DataFrame y la asigna a la variable desviacion_tipica_edad\n",
    "desviacion_tipica_edad = df['edad'].std()\n",
    "\n",
    "# Calcula la media (promedio) de la columna 'peso' del DataFrame y la asigna a la variable media_peso\n",
    "media_peso = df['peso'].mean()\n",
    "\n",
    "# Calcula la desviación estándar de la columna 'peso' del DataFrame y la asigna a la variable desviacion_tipica_peso\n",
    "desviacion_tipica_peso = df['peso'].std()\n",
    "\n",
    "# Imprime la media y la desviación estándar de la edad en la consola\n",
    "print(\"Media de Edad:\", media_edad)\n",
    "print(\"Desviación Típica de Edad:\", desviacion_tipica_edad)\n",
    "\n",
    "# Imprime la media y la desviación estándar del peso en la consola\n",
    "print(\"Media de Peso:\", media_peso)\n",
    "print(\"Desviación Típica de Peso:\", desviacion_tipica_peso)"
   ]
  }
 ],
 "metadata": {
  "kernelspec": {
   "display_name": "Python 3",
   "language": "python",
   "name": "python3"
  },
  "language_info": {
   "codemirror_mode": {
    "name": "ipython",
    "version": 3
   },
   "file_extension": ".py",
   "mimetype": "text/x-python",
   "name": "python",
   "nbconvert_exporter": "python",
   "pygments_lexer": "ipython3",
   "version": "3.11.9"
  }
 },
 "nbformat": 4,
 "nbformat_minor": 2
}
